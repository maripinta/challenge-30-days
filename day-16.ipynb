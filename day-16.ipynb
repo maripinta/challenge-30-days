{
 "cells": [
  {
   "cell_type": "markdown",
   "metadata": {},
   "source": [
    "# 30 Day Chart Challenge"
   ]
  },
  {
   "cell_type": "markdown",
   "metadata": {},
   "source": [
    "Datasource: https://www.kaggle.com/datasets/fujichan/weather-in-spain\n",
    "Registros meteorológicos del año pasado en varias ciudades de España."
   ]
  },
  {
   "cell_type": "code",
   "execution_count": 17,
   "metadata": {},
   "outputs": [
    {
     "data": {
      "text/html": [
       "<div>\n",
       "<style scoped>\n",
       "    .dataframe tbody tr th:only-of-type {\n",
       "        vertical-align: middle;\n",
       "    }\n",
       "\n",
       "    .dataframe tbody tr th {\n",
       "        vertical-align: top;\n",
       "    }\n",
       "\n",
       "    .dataframe thead th {\n",
       "        text-align: right;\n",
       "    }\n",
       "</style>\n",
       "<table border=\"1\" class=\"dataframe\">\n",
       "  <thead>\n",
       "    <tr style=\"text-align: right;\">\n",
       "      <th></th>\n",
       "      <th>Timestamp</th>\n",
       "      <th>Temperature (ºC)</th>\n",
       "      <th>Wind Speed (m/s)</th>\n",
       "      <th>Wind Direction (degrees)</th>\n",
       "      <th>Pressure (hPa)</th>\n",
       "      <th>Humidity (%)</th>\n",
       "      <th>Weather</th>\n",
       "      <th>City</th>\n",
       "    </tr>\n",
       "  </thead>\n",
       "  <tbody>\n",
       "    <tr>\n",
       "      <th>0</th>\n",
       "      <td>2023-07-12 15:00:00</td>\n",
       "      <td>28.78</td>\n",
       "      <td>5.66</td>\n",
       "      <td>120</td>\n",
       "      <td>1014</td>\n",
       "      <td>70</td>\n",
       "      <td>Clouds</td>\n",
       "      <td>Barcelona</td>\n",
       "    </tr>\n",
       "    <tr>\n",
       "      <th>1</th>\n",
       "      <td>2023-07-12 16:00:00</td>\n",
       "      <td>28.31</td>\n",
       "      <td>5.14</td>\n",
       "      <td>140</td>\n",
       "      <td>1014</td>\n",
       "      <td>72</td>\n",
       "      <td>Clouds</td>\n",
       "      <td>Barcelona</td>\n",
       "    </tr>\n",
       "    <tr>\n",
       "      <th>2</th>\n",
       "      <td>2023-07-12 17:00:00</td>\n",
       "      <td>27.81</td>\n",
       "      <td>3.60</td>\n",
       "      <td>120</td>\n",
       "      <td>1014</td>\n",
       "      <td>73</td>\n",
       "      <td>Clear</td>\n",
       "      <td>Barcelona</td>\n",
       "    </tr>\n",
       "    <tr>\n",
       "      <th>3</th>\n",
       "      <td>2023-07-12 18:00:00</td>\n",
       "      <td>27.27</td>\n",
       "      <td>3.09</td>\n",
       "      <td>130</td>\n",
       "      <td>1013</td>\n",
       "      <td>76</td>\n",
       "      <td>Clear</td>\n",
       "      <td>Barcelona</td>\n",
       "    </tr>\n",
       "    <tr>\n",
       "      <th>4</th>\n",
       "      <td>2023-07-12 19:00:00</td>\n",
       "      <td>26.99</td>\n",
       "      <td>2.57</td>\n",
       "      <td>130</td>\n",
       "      <td>1014</td>\n",
       "      <td>77</td>\n",
       "      <td>Clear</td>\n",
       "      <td>Barcelona</td>\n",
       "    </tr>\n",
       "  </tbody>\n",
       "</table>\n",
       "</div>"
      ],
      "text/plain": [
       "             Timestamp  Temperature (ºC)  Wind Speed (m/s)  \\\n",
       "0  2023-07-12 15:00:00             28.78              5.66   \n",
       "1  2023-07-12 16:00:00             28.31              5.14   \n",
       "2  2023-07-12 17:00:00             27.81              3.60   \n",
       "3  2023-07-12 18:00:00             27.27              3.09   \n",
       "4  2023-07-12 19:00:00             26.99              2.57   \n",
       "\n",
       "   Wind Direction (degrees)  Pressure (hPa)  Humidity (%) Weather       City  \n",
       "0                       120            1014            70  Clouds  Barcelona  \n",
       "1                       140            1014            72  Clouds  Barcelona  \n",
       "2                       120            1014            73   Clear  Barcelona  \n",
       "3                       130            1013            76   Clear  Barcelona  \n",
       "4                       130            1014            77   Clear  Barcelona  "
      ]
     },
     "execution_count": 17,
     "metadata": {},
     "output_type": "execute_result"
    }
   ],
   "source": [
    "import pandas as pd\n",
    "import matplotlib.pyplot as plt\n",
    "\n",
    "# Cargar el dataset\n",
    "data = pd.read_csv(\"data/kangle/all_weather_data.csv\")\n",
    "data.head()"
   ]
  },
  {
   "cell_type": "code",
   "execution_count": 18,
   "metadata": {},
   "outputs": [],
   "source": [
    "# Filtrar solo los datos con la City Valladolid\n",
    "df_valladolid = data[data['City'] == 'Valladolid']\n",
    "\n",
    "# Transformar en un archivo csv, quitando el campo City\n",
    "df_valladolid = df_valladolid.drop('City', axis=1)\n",
    "df_valladolid.to_csv('data/kangle/valladolid_weather.csv', index=False)"
   ]
  },
  {
   "cell_type": "code",
   "execution_count": 28,
   "metadata": {},
   "outputs": [
    {
     "data": {
      "text/plain": [
       "Timestamp                    object\n",
       "Temperature (ºC)            float64\n",
       "Wind Speed (m/s)            float64\n",
       "Wind Direction (degrees)      int64\n",
       "Pressure (hPa)                int64\n",
       "Humidity (%)                  int64\n",
       "Weather                      object\n",
       "dtype: object"
      ]
     },
     "execution_count": 28,
     "metadata": {},
     "output_type": "execute_result"
    }
   ],
   "source": [
    "df_valladolid = pd.read_csv('data/kangle/valladolid_weather.csv')\n",
    "df_valladolid.shape\n",
    "df_valladolid.dtypes"
   ]
  },
  {
   "cell_type": "code",
   "execution_count": 29,
   "metadata": {},
   "outputs": [],
   "source": [
    "df_valladolid = df_valladolid.dropna()"
   ]
  },
  {
   "cell_type": "code",
   "execution_count": 30,
   "metadata": {},
   "outputs": [],
   "source": [
    "df_valladolid = df_valladolid.drop(columns=['Weather'])"
   ]
  },
  {
   "cell_type": "code",
   "execution_count": 31,
   "metadata": {},
   "outputs": [],
   "source": [
    "df_valladolid['Timestamp'] = pd.to_datetime(df_valladolid['Timestamp'])"
   ]
  },
  {
   "cell_type": "code",
   "execution_count": 32,
   "metadata": {},
   "outputs": [],
   "source": [
    "df_daily_avg = df_valladolid.groupby(df_valladolid['Timestamp'].dt.date).mean()"
   ]
  },
  {
   "cell_type": "code",
   "execution_count": null,
   "metadata": {},
   "outputs": [
    {
     "data": {
      "text/html": [
       "<div>\n",
       "<style scoped>\n",
       "    .dataframe tbody tr th:only-of-type {\n",
       "        vertical-align: middle;\n",
       "    }\n",
       "\n",
       "    .dataframe tbody tr th {\n",
       "        vertical-align: top;\n",
       "    }\n",
       "\n",
       "    .dataframe thead th {\n",
       "        text-align: right;\n",
       "    }\n",
       "</style>\n",
       "<table border=\"1\" class=\"dataframe\">\n",
       "  <thead>\n",
       "    <tr style=\"text-align: right;\">\n",
       "      <th></th>\n",
       "      <th>Timestamp</th>\n",
       "      <th>Temperature (ºC)</th>\n",
       "      <th>Wind Speed (m/s)</th>\n",
       "      <th>Wind Direction (degrees)</th>\n",
       "      <th>Pressure (hPa)</th>\n",
       "      <th>Humidity (%)</th>\n",
       "    </tr>\n",
       "    <tr>\n",
       "      <th>Timestamp</th>\n",
       "      <th></th>\n",
       "      <th></th>\n",
       "      <th></th>\n",
       "      <th></th>\n",
       "      <th></th>\n",
       "      <th></th>\n",
       "    </tr>\n",
       "  </thead>\n",
       "  <tbody>\n",
       "    <tr>\n",
       "      <th>2022-07-14</th>\n",
       "      <td>2022-07-14 19:00:00</td>\n",
       "      <td>35.216667</td>\n",
       "      <td>5.635556</td>\n",
       "      <td>55.222222</td>\n",
       "      <td>1015.888889</td>\n",
       "      <td>14.888889</td>\n",
       "    </tr>\n",
       "    <tr>\n",
       "      <th>2022-07-15</th>\n",
       "      <td>2022-07-15 11:30:00</td>\n",
       "      <td>30.707917</td>\n",
       "      <td>4.525417</td>\n",
       "      <td>82.916667</td>\n",
       "      <td>1015.125000</td>\n",
       "      <td>24.458333</td>\n",
       "    </tr>\n",
       "    <tr>\n",
       "      <th>2022-07-16</th>\n",
       "      <td>2022-07-16 11:30:00</td>\n",
       "      <td>30.844167</td>\n",
       "      <td>3.888750</td>\n",
       "      <td>132.583333</td>\n",
       "      <td>1013.666667</td>\n",
       "      <td>28.750000</td>\n",
       "    </tr>\n",
       "    <tr>\n",
       "      <th>2022-07-17</th>\n",
       "      <td>2022-07-17 11:30:00</td>\n",
       "      <td>31.815833</td>\n",
       "      <td>3.731250</td>\n",
       "      <td>147.500000</td>\n",
       "      <td>1015.083333</td>\n",
       "      <td>26.791667</td>\n",
       "    </tr>\n",
       "    <tr>\n",
       "      <th>2022-07-18</th>\n",
       "      <td>2022-07-18 11:30:00</td>\n",
       "      <td>30.640833</td>\n",
       "      <td>3.841250</td>\n",
       "      <td>201.333333</td>\n",
       "      <td>1012.916667</td>\n",
       "      <td>27.958333</td>\n",
       "    </tr>\n",
       "  </tbody>\n",
       "</table>\n",
       "</div>"
      ],
      "text/plain": [
       "                     Timestamp  Temperature (ºC)  Wind Speed (m/s)  \\\n",
       "Timestamp                                                            \n",
       "2022-07-14 2022-07-14 19:00:00         35.216667          5.635556   \n",
       "2022-07-15 2022-07-15 11:30:00         30.707917          4.525417   \n",
       "2022-07-16 2022-07-16 11:30:00         30.844167          3.888750   \n",
       "2022-07-17 2022-07-17 11:30:00         31.815833          3.731250   \n",
       "2022-07-18 2022-07-18 11:30:00         30.640833          3.841250   \n",
       "\n",
       "            Wind Direction (degrees)  Pressure (hPa)  Humidity (%)  \n",
       "Timestamp                                                           \n",
       "2022-07-14                 55.222222     1015.888889     14.888889  \n",
       "2022-07-15                 82.916667     1015.125000     24.458333  \n",
       "2022-07-16                132.583333     1013.666667     28.750000  \n",
       "2022-07-17                147.500000     1015.083333     26.791667  \n",
       "2022-07-18                201.333333     1012.916667     27.958333  "
      ]
     },
     "execution_count": 35,
     "metadata": {},
     "output_type": "execute_result"
    }
   ],
   "source": [
    "df_daily_avg.head()"
   ]
  },
  {
   "cell_type": "code",
   "execution_count": 36,
   "metadata": {},
   "outputs": [],
   "source": [
    "df_daily_avg.to_csv('data/kangle/valladolid_daily_avg_weather.csv')"
   ]
  },
  {
   "cell_type": "markdown",
   "metadata": {},
   "source": [
    "\n",
    "La visualización de datos meteorológicos de Valladolid (España) de julio de 2022 a julio de 2023 está compuesta por cuatro gráficos, cada uno representando una variable climática: presión atmosférica, temperatura, humedad y velocidad del viento. Cada gráfico muestra cómo varía la variable respectiva a lo largo de los meses. En el eje X de cada gráfico se representa el tiempo en meses, mientras que el eje Y cambia en cada gráfico para reflejar la unidad correspondiente (hPa para presión, °C para temperatura, % para humedad, y km/h para velocidad del viento). Esta serie de gráficos permite analizar tanto los patrones estacionales como la variabilidad diaria o mensual de estas variables.\n",
    "Presión Atmosférica: Representa cambios en la presión atmosférica, con picos que pueden estar relacionados con fenómenos climáticos específicos.\n",
    "Temperatura: Muestra las temperaturas promedio, máximas y mínimas a lo largo del año, destacando los meses más cálidos y fríos.\n",
    "Humedad: Refleja el nivel de humedad relativa en Valladolid, permitiendo observar cómo fluctúa en diferentes estaciones.\n",
    "Velocidad del Viento: Describe la intensidad del viento, indicando épocas de viento elevado o tranquilo.\n",
    "\n",
    "3.\tDatos y su fuente\n",
    "\n",
    "Datasource: https://www.kaggle.com/datasets/fujichan/weather-in-spain\n",
    "Registros meteorológicos del año pasado en varias ciudades de España.\n",
    "\n",
    "4.\tAudiencia\n",
    "\n",
    "La audiencia incluye meteorólogos, urbanistas, estudiantes de ciencias ambientales, y el público general, especialmente residentes de Valladolid o turistas que planeen visitar la ciudad.\n",
    "\n",
    "5.\tObjetivo\n",
    "El objetivo es comprender cómo estas variables climáticas han fluctuado en el último año en Valladolid. Esto permite observar patrones estacionales, identificar fenómenos climáticos importantes y comprender cómo varían los elementos del clima en diferentes épocas del año.\n",
    "\n",
    "6.\tMensaje\n",
    "La serie de gráficos ofrece una visión detallada de las condiciones meteorológicas de Valladolid. Muestra cómo la temperatura, la presión, la humedad y el viento fluctúan de manera independiente y cómo cada uno sigue patrones estacionales que afectan la experiencia climática en la ciudad.\n",
    "\n",
    "7.\tTipo de visualización y justificación de uso\n",
    "Gráficos de líneas individuales para cada variable climática. Los gráficos de líneas son apropiados para este análisis ya que permiten observar tendencias en cada variable a lo largo del tiempo, resaltando patrones mensuales o estacionales. Al separar las variables en gráficos individuales, se facilita la interpretación de cada factor climático y su comportamiento específico en el contexto anual, permitiendo una comprensión más detallada y organizada de la dinámica climática en Valladolid.\n",
    "\n",
    "8.\tHerramienta y justificación de uso\n",
    "Datawrapper\n"
   ]
  }
 ],
 "metadata": {
  "kernelspec": {
   "display_name": ".venv",
   "language": "python",
   "name": "python3"
  },
  "language_info": {
   "codemirror_mode": {
    "name": "ipython",
    "version": 3
   },
   "file_extension": ".py",
   "mimetype": "text/x-python",
   "name": "python",
   "nbconvert_exporter": "python",
   "pygments_lexer": "ipython3",
   "version": "3.12.2"
  }
 },
 "nbformat": 4,
 "nbformat_minor": 2
}
