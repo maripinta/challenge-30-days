{
 "cells": [
  {
   "cell_type": "markdown",
   "metadata": {},
   "source": [
    "# 30 Day Chart Challenge"
   ]
  },
  {
   "cell_type": "markdown",
   "metadata": {},
   "source": [
    "## Day 23: Tendencias de ventas y precios finales de teléfonos inteligentes por modelo a lo largo del tiempo"
   ]
  },
  {
   "cell_type": "markdown",
   "metadata": {},
   "source": [
    "**Fuente de datos**\n",
    "\n",
    "Smartphone_sales\n",
    "\n",
    "Este conjunto de datos proporciona información detallada sobre varios teléfonos inteligentes\n",
    "\n",
    "Datasource: https://www.kaggle.com/datasets/fatihyavuzz/smartphone-sales"
   ]
  },
  {
   "cell_type": "code",
   "execution_count": 115,
   "metadata": {},
   "outputs": [
    {
     "data": {
      "text/html": [
       "<div>\n",
       "<style scoped>\n",
       "    .dataframe tbody tr th:only-of-type {\n",
       "        vertical-align: middle;\n",
       "    }\n",
       "\n",
       "    .dataframe tbody tr th {\n",
       "        vertical-align: top;\n",
       "    }\n",
       "\n",
       "    .dataframe thead th {\n",
       "        text-align: right;\n",
       "    }\n",
       "</style>\n",
       "<table border=\"1\" class=\"dataframe\">\n",
       "  <thead>\n",
       "    <tr style=\"text-align: right;\">\n",
       "      <th></th>\n",
       "      <th>Smartphone</th>\n",
       "      <th>Brand</th>\n",
       "      <th>Model</th>\n",
       "      <th>RAM</th>\n",
       "      <th>Storage</th>\n",
       "      <th>Color</th>\n",
       "      <th>Free</th>\n",
       "      <th>Final Price</th>\n",
       "    </tr>\n",
       "  </thead>\n",
       "  <tbody>\n",
       "    <tr>\n",
       "      <th>0</th>\n",
       "      <td>Realme C55 8/256GB Sunshower Libre</td>\n",
       "      <td>Realme</td>\n",
       "      <td>C55</td>\n",
       "      <td>8.0</td>\n",
       "      <td>256.0</td>\n",
       "      <td>Yellow</td>\n",
       "      <td>Yes</td>\n",
       "      <td>231.60</td>\n",
       "    </tr>\n",
       "    <tr>\n",
       "      <th>1</th>\n",
       "      <td>Samsung Galaxy M23 5G 4/128GB Azul Libre</td>\n",
       "      <td>Samsung</td>\n",
       "      <td>Galaxy M23</td>\n",
       "      <td>4.0</td>\n",
       "      <td>128.0</td>\n",
       "      <td>Blue</td>\n",
       "      <td>Yes</td>\n",
       "      <td>279.00</td>\n",
       "    </tr>\n",
       "    <tr>\n",
       "      <th>2</th>\n",
       "      <td>Motorola Moto G13 4/128GB Azul Lavanda Libre</td>\n",
       "      <td>Motorola</td>\n",
       "      <td>Moto G13</td>\n",
       "      <td>4.0</td>\n",
       "      <td>128.0</td>\n",
       "      <td>Blue</td>\n",
       "      <td>Yes</td>\n",
       "      <td>179.01</td>\n",
       "    </tr>\n",
       "    <tr>\n",
       "      <th>3</th>\n",
       "      <td>Xiaomi Redmi Note 11S 6/128GB Gris Libre</td>\n",
       "      <td>Xiaomi</td>\n",
       "      <td>Redmi Note 11S</td>\n",
       "      <td>6.0</td>\n",
       "      <td>128.0</td>\n",
       "      <td>Gray</td>\n",
       "      <td>Yes</td>\n",
       "      <td>279.99</td>\n",
       "    </tr>\n",
       "    <tr>\n",
       "      <th>4</th>\n",
       "      <td>Nothing Phone (2) 12/512GB Blanco Libre</td>\n",
       "      <td>Nothing</td>\n",
       "      <td>Phone (2)</td>\n",
       "      <td>12.0</td>\n",
       "      <td>512.0</td>\n",
       "      <td>White</td>\n",
       "      <td>Yes</td>\n",
       "      <td>799.00</td>\n",
       "    </tr>\n",
       "  </tbody>\n",
       "</table>\n",
       "</div>"
      ],
      "text/plain": [
       "                                     Smartphone     Brand           Model  \\\n",
       "0            Realme C55 8/256GB Sunshower Libre    Realme             C55   \n",
       "1      Samsung Galaxy M23 5G 4/128GB Azul Libre   Samsung      Galaxy M23   \n",
       "2  Motorola Moto G13 4/128GB Azul Lavanda Libre  Motorola        Moto G13   \n",
       "3      Xiaomi Redmi Note 11S 6/128GB Gris Libre    Xiaomi  Redmi Note 11S   \n",
       "4       Nothing Phone (2) 12/512GB Blanco Libre   Nothing       Phone (2)   \n",
       "\n",
       "    RAM  Storage   Color Free  Final Price  \n",
       "0   8.0    256.0  Yellow  Yes       231.60  \n",
       "1   4.0    128.0    Blue  Yes       279.00  \n",
       "2   4.0    128.0    Blue  Yes       179.01  \n",
       "3   6.0    128.0    Gray  Yes       279.99  \n",
       "4  12.0    512.0   White  Yes       799.00  "
      ]
     },
     "execution_count": 115,
     "metadata": {},
     "output_type": "execute_result"
    }
   ],
   "source": [
    "# Importar las bibliotecas necesarias\n",
    "import pandas as pd\n",
    "import seaborn as sns\n",
    "import matplotlib.pyplot as plt\n",
    "\n",
    "# Cargar el dataset\n",
    "data = pd.read_csv(\"data/kangle/smartphones.csv\")\n",
    "data.head()"
   ]
  },
  {
   "cell_type": "code",
   "execution_count": 116,
   "metadata": {
    "vscode": {
     "languageId": "ruby"
    }
   },
   "outputs": [
    {
     "data": {
      "image/png": "[encoded data removed]",
      "text/plain": [
       "<Figure size 640x480 with 3 Axes>"
      ]
     },
     "metadata": {},
     "output_type": "display_data"
    }
   ],
   "source": [
    "from statsmodels.graphics.mosaicplot import mosaic\n",
    "\n",
    "# Obtener una lista de las marcas con el precio promedio más alto\n",
    "brands = data.groupby('Brand').agg({'Final Price': 'mean'}).reset_index()\n",
    "# Obtener un lista de las 4 marcas con el precio promedio más alto, lista de strings\n",
    "brands = brands.sort_values('Final Price', ascending=False).head(4)['Brand'].tolist()\n",
    "\n",
    "data = data[data['Brand'].isin(brands)]\n",
    "\n",
    "# Agrupar los datos por marca, RAM, Color\n",
    "data = data.groupby(['Brand', 'RAM']).agg({'Final Price': 'mean'}).reset_index()\n",
    "\n",
    "\n",
    "# Crear un gráfico de mosaico, poner un titulo adecuado,\n",
    "mosaic(data, ['Brand', 'RAM'], title='Distribución de Precios Finales de Teléfonos Inteligentes Marca y RAM')\n",
    "\n",
    "# Agregar detalles de los ejes\n",
    "plt.xlabel('Marca')\n",
    "plt.ylabel('RAM')\n",
    "\n",
    "# Ampliar el gráfico\n",
    "plt.tight_layout()\n",
    "\n",
    "# Mostrar el gráfico\n",
    "plt.show()"
   ]
  },
  {
   "cell_type": "markdown",
   "metadata": {},
   "source": [
    "**Descripción del gráfico:**\n",
    "El gráfico de mosaico muestra la distribución de precios finales de teléfonos inteligentes agrupados por marca y RAM. Cada celda del gráfico representa un segmento de la población de teléfonos inteligentes con una marca y una cantidad de RAM específicas. La altura de cada celda representa la proporción de teléfonos inteligentes en esa categoría, y el color de cada celda indica el precio promedio de los teléfonos inteligentes en esa categoría. El gráfico de mosaico es útil para visualizar la distribución de precios finales de teléfonos inteligentes en función de la marca y la cantidad de RAM.\n",
    "\n",
    "**Audiencia:**\n",
    "Este gráfico es útil para los consumidores que desean comparar los precios finales de teléfonos inteligentes de diferentes marcas y con diferentes cantidades de RAM. También es útil para los fabricantes de teléfonos inteligentes que desean comprender la distribución de precios finales de teléfonos inteligentes en el mercado.\n",
    "\n",
    "**Objetivo:**\n",
    "El objetivo de este gráfico es mostrar cómo se distribuyen los precios finales de los teléfonos inteligentes en función de la marca y la cantidad de RAM. Al visualizar esta información, los consumidores pueden identificar las marcas y modelos de teléfonos inteligentes que ofrecen la mejor relación calidad-precio en función de sus necesidades y presupuesto.\n",
    "\n",
    "**Mensaje:**\n",
    "El mensaje principal de este gráfico es que los precios finales de los teléfonos inteligentes varían significativamente en función de la marca y la cantidad de RAM. Al comparar los precios finales de los teléfonos inteligentes en función de la marca y la cantidad de RAM, los consumidores pueden identificar las marcas y modelos de teléfonos inteligentes que ofrecen la mejor relación calidad-precio.\n",
    "\n",
    "**Tipo de visualización y justificación de su uso:**\n",
    "El gráfico de mosaico es una visualización efectiva para mostrar la distribución de precios finales de teléfonos inteligentes en función de la marca y la cantidad de RAM. El gráfico de mosaico es útil para visualizar la distribución de precios finales de teléfonos inteligentes en función de dos variables categóricas. Al utilizar el color y la altura de las celdas para representar diferentes valores, el gráfico de mosaico permite a los consumidores comparar fácilmente los precios finales de los teléfonos inteligentes en función de la marca y la cantidad de RAM.\n",
    "\n",
    "**Herramienta y justificación de su uso**\n",
    "Jupyter Notebook permite ejecutar y visualizar fragmentos de código en celdas individuales, lo que facilita probar diferentes visualizaciones, ajustar parámetros y ver resultados en tiempo real. Esto es ideal para el análisis exploratorio de datos, ya que puedes probar rápidamente varias visualizaciones, ajustar el estilo y personalizar los gráficos sin tener que re-ejecutar todo el código."
   ]
  }
 ],
 "metadata": {
  "kernelspec": {
   "display_name": ".venv",
   "language": "python",
   "name": "python3"
  },
  "language_info": {
   "codemirror_mode": {
    "name": "ipython",
    "version": 3
   },
   "file_extension": ".py",
   "mimetype": "text/x-python",
   "name": "python",
   "nbconvert_exporter": "python",
   "pygments_lexer": "ipython3",
   "version": "3.12.2"
  }
 },
 "nbformat": 4,
 "nbformat_minor": 2
}
